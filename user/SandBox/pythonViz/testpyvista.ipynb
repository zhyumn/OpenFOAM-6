{
 "cells": [
  {
   "cell_type": "code",
   "execution_count": 1,
   "metadata": {},
   "outputs": [],
   "source": [
    "import pyvista as pv\n",
    "\n",
    "# read the data\n",
    "grid = pv.read('/home/zhy/new_drive/OpenFOAM-6/user/tutorials/sprayA1DIG/VTK/sprayA1DIG_0.vtk')\n",
    "\n",
    "# plot the data with an automatically created Plotter\n",
    "grid.plot(show_scalar_bar=False, show_axes=False)"
   ]
  }
 ],
 "metadata": {
  "interpreter": {
   "hash": "8c01909f35df84bda5e48a0fda083dc450a96fc4f491566d2af5a3b4156e4447"
  },
  "kernelspec": {
   "display_name": "Python 3.7.6 ('base')",
   "language": "python",
   "name": "python3"
  },
  "language_info": {
   "codemirror_mode": {
    "name": "ipython",
    "version": 3
   },
   "file_extension": ".py",
   "mimetype": "text/x-python",
   "name": "python",
   "nbconvert_exporter": "python",
   "pygments_lexer": "ipython3",
   "version": "3.7.6"
  },
  "orig_nbformat": 4
 },
 "nbformat": 4,
 "nbformat_minor": 2
}
